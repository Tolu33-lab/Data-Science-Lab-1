{
 "cells": [
  {
   "cell_type": "markdown",
   "id": "3fb808b3",
   "metadata": {},
   "source": [
    "# Data Science Tools and Ecosystem"
   ]
  },
  {
   "cell_type": "markdown",
   "id": "275fd30f",
   "metadata": {},
   "source": [
    "# This is a markdown cell\n",
    "In this noetbook, Data Science Tools and Ecosystem are summarized"
   ]
  },
  {
   "cell_type": "markdown",
   "id": "2612a79c",
   "metadata": {},
   "source": [
    "\n",
    "Some of the popular languages that Data Scientists use are:\n",
    "1. Python\n",
    "2. R\n",
    "3. SQL"
   ]
  },
  {
   "cell_type": "markdown",
   "id": "bdafe27e",
   "metadata": {},
   "source": [
    "\n",
    "Some of the commoly used libraries by Data Scientists use are:\n",
    "1. Pandas\n",
    "2. Keras\n",
    "2. matplotlib"
   ]
  },
  {
   "cell_type": "markdown",
   "id": "ea9a3dfb",
   "metadata": {},
   "source": [
    "\n",
    "| Data Science Tools |\n",
    "| ----------------- |\n",
    "| TensorFlow |\n",
    "| RStudio |\n",
    "| Apache Hadoop |"
   ]
  },
  {
   "cell_type": "markdown",
   "id": "fb13045c",
   "metadata": {},
   "source": [
    "### Below are a few examples of evalusting arithmetic expressions in Python"
   ]
  },
  {
   "cell_type": "code",
   "execution_count": 1,
   "id": "527f3447",
   "metadata": {},
   "outputs": [
    {
     "name": "stdout",
     "output_type": "stream",
     "text": [
      "17\n"
     ]
    }
   ],
   "source": [
    "print ((3*4)+5)"
   ]
  },
  {
   "cell_type": "code",
   "execution_count": 3,
   "id": "76b1382a",
   "metadata": {},
   "outputs": [
    {
     "name": "stdout",
     "output_type": "stream",
     "text": [
      "3.3333333333333335\n"
     ]
    }
   ],
   "source": [
    "# This will convert 200 minutes to hours\n",
    "\n",
    "minutes = 200\n",
    "\n",
    "# Convert minutes to hours\n",
    "hours = minutes / 60\n",
    "\n",
    "print(hours)"
   ]
  },
  {
   "cell_type": "markdown",
   "id": "0114eee0",
   "metadata": {},
   "source": [
    "**Objective:**\n",
    "- R\n",
    "- Python\n",
    "- JavaScript"
   ]
  },
  {
   "cell_type": "markdown",
   "id": "59042124",
   "metadata": {},
   "source": [
    "## Author\n",
    "Tolulope Sulaimon"
   ]
  },
  {
   "cell_type": "code",
   "execution_count": null,
   "id": "bbcd8eb7",
   "metadata": {},
   "outputs": [],
   "source": []
  }
 ],
 "metadata": {
  "kernelspec": {
   "display_name": "Python 3 (ipykernel)",
   "language": "python",
   "name": "python3"
  },
  "language_info": {
   "codemirror_mode": {
    "name": "ipython",
    "version": 3
   },
   "file_extension": ".py",
   "mimetype": "text/x-python",
   "name": "python",
   "nbconvert_exporter": "python",
   "pygments_lexer": "ipython3",
   "version": "3.11.5"
  }
 },
 "nbformat": 4,
 "nbformat_minor": 5
}
